{
  "nbformat": 4,
  "nbformat_minor": 0,
  "metadata": {
    "accelerator": "TPU",
    "colab": {
      "name": "Uber_data_analysis.ipynb",
      "provenance": [],
      "collapsed_sections": []
    },
    "kernelspec": {
      "display_name": "Python 3",
      "name": "python3"
    }
  },
  "cells": [
    {
      "cell_type": "code",
      "metadata": {
        "colab": {
          "base_uri": "https://localhost:8080/"
        },
        "id": "WWdVhLhTyLyV",
        "outputId": "09ccbd74-8d6f-443e-fe91-4e2452ab9039"
      },
      "source": [
        "from google.colab import drive\r\n",
        "drive.mount('/content/drive')"
      ],
      "execution_count": null,
      "outputs": [
        {
          "output_type": "stream",
          "text": [
            "Drive already mounted at /content/drive; to attempt to forcibly remount, call drive.mount(\"/content/drive\", force_remount=True).\n"
          ],
          "name": "stdout"
        }
      ]
    },
    {
      "cell_type": "code",
      "metadata": {
        "id": "XK_Bo5yD0VgD"
      },
      "source": [
        "# Impoting the required packages\r\n",
        "import math\r\n",
        "import warnings\r\n",
        "import numpy as np # linear algebra\r\n",
        "import pandas as pd # data processing.\r\n",
        "import seaborn as sns\r\n",
        "import random\r\n",
        "import plotly.express as px\r\n",
        "import matplotlib.pyplot as plt #For plotting"
      ],
      "execution_count": null,
      "outputs": []
    },
    {
      "cell_type": "code",
      "metadata": {
        "id": "gyy796x70V0G"
      },
      "source": [
        "# Importing the CSV file\r\n",
        "apr ='/content/drive/My Drive/Colab Notebooks/datasets/uber_data/uber-raw-data-apr14.csv'\r\n",
        "aug ='/content/drive/My Drive/Colab Notebooks/datasets/uber_data/uber-raw-data-aug14.csv'\r\n",
        "jul ='/content/drive/My Drive/Colab Notebooks/datasets/uber_data/uber-raw-data-jul14.csv'\r\n",
        "jun ='/content/drive/My Drive/Colab Notebooks/datasets/uber_data/uber-raw-data-jun14.csv'\r\n",
        "may ='/content/drive/My Drive/Colab Notebooks/datasets/uber_data/uber-raw-data-may14.csv'\r\n",
        "sep ='/content/drive/My Drive/Colab Notebooks/datasets/uber_data/uber-raw-data-sep14.csv'\r\n"
      ],
      "execution_count": null,
      "outputs": []
    },
    {
      "cell_type": "code",
      "metadata": {
        "id": "h24O1M4Z0kJa"
      },
      "source": [
        "apr= pd.read_csv(apr)\r\n",
        "aug= pd.read_csv(aug)\r\n",
        "jul= pd.read_csv(jul)\r\n",
        "jun= pd.read_csv(jun)\r\n",
        "may= pd.read_csv(may)\r\n",
        "sep= pd.read_csv(sep)"
      ],
      "execution_count": null,
      "outputs": []
    },
    {
      "cell_type": "code",
      "metadata": {
        "colab": {
          "base_uri": "https://localhost:8080/",
          "height": 204
        },
        "id": "JZjUK0AVIJki",
        "outputId": "8fb492c4-1b1a-4759-a800-d2274f8764cd"
      },
      "source": [
        "apr.head()"
      ],
      "execution_count": null,
      "outputs": [
        {
          "output_type": "execute_result",
          "data": {
            "text/html": [
              "<div>\n",
              "<style scoped>\n",
              "    .dataframe tbody tr th:only-of-type {\n",
              "        vertical-align: middle;\n",
              "    }\n",
              "\n",
              "    .dataframe tbody tr th {\n",
              "        vertical-align: top;\n",
              "    }\n",
              "\n",
              "    .dataframe thead th {\n",
              "        text-align: right;\n",
              "    }\n",
              "</style>\n",
              "<table border=\"1\" class=\"dataframe\">\n",
              "  <thead>\n",
              "    <tr style=\"text-align: right;\">\n",
              "      <th></th>\n",
              "      <th>Date/Time</th>\n",
              "      <th>Lat</th>\n",
              "      <th>Lon</th>\n",
              "      <th>Base</th>\n",
              "    </tr>\n",
              "  </thead>\n",
              "  <tbody>\n",
              "    <tr>\n",
              "      <th>0</th>\n",
              "      <td>4/1/2014 0:11:00</td>\n",
              "      <td>40.7690</td>\n",
              "      <td>-73.9549</td>\n",
              "      <td>B02512</td>\n",
              "    </tr>\n",
              "    <tr>\n",
              "      <th>1</th>\n",
              "      <td>4/1/2014 0:17:00</td>\n",
              "      <td>40.7267</td>\n",
              "      <td>-74.0345</td>\n",
              "      <td>B02512</td>\n",
              "    </tr>\n",
              "    <tr>\n",
              "      <th>2</th>\n",
              "      <td>4/1/2014 0:21:00</td>\n",
              "      <td>40.7316</td>\n",
              "      <td>-73.9873</td>\n",
              "      <td>B02512</td>\n",
              "    </tr>\n",
              "    <tr>\n",
              "      <th>3</th>\n",
              "      <td>4/1/2014 0:28:00</td>\n",
              "      <td>40.7588</td>\n",
              "      <td>-73.9776</td>\n",
              "      <td>B02512</td>\n",
              "    </tr>\n",
              "    <tr>\n",
              "      <th>4</th>\n",
              "      <td>4/1/2014 0:33:00</td>\n",
              "      <td>40.7594</td>\n",
              "      <td>-73.9722</td>\n",
              "      <td>B02512</td>\n",
              "    </tr>\n",
              "  </tbody>\n",
              "</table>\n",
              "</div>"
            ],
            "text/plain": [
              "          Date/Time      Lat      Lon    Base\n",
              "0  4/1/2014 0:11:00  40.7690 -73.9549  B02512\n",
              "1  4/1/2014 0:17:00  40.7267 -74.0345  B02512\n",
              "2  4/1/2014 0:21:00  40.7316 -73.9873  B02512\n",
              "3  4/1/2014 0:28:00  40.7588 -73.9776  B02512\n",
              "4  4/1/2014 0:33:00  40.7594 -73.9722  B02512"
            ]
          },
          "metadata": {
            "tags": []
          },
          "execution_count": 5
        }
      ]
    },
    {
      "cell_type": "code",
      "metadata": {
        "colab": {
          "base_uri": "https://localhost:8080/",
          "height": 204
        },
        "id": "4sMSWigoIKB0",
        "outputId": "f43d1d60-79ae-42a5-a454-174bad76dda2"
      },
      "source": [
        "aug.head()"
      ],
      "execution_count": null,
      "outputs": [
        {
          "output_type": "execute_result",
          "data": {
            "text/html": [
              "<div>\n",
              "<style scoped>\n",
              "    .dataframe tbody tr th:only-of-type {\n",
              "        vertical-align: middle;\n",
              "    }\n",
              "\n",
              "    .dataframe tbody tr th {\n",
              "        vertical-align: top;\n",
              "    }\n",
              "\n",
              "    .dataframe thead th {\n",
              "        text-align: right;\n",
              "    }\n",
              "</style>\n",
              "<table border=\"1\" class=\"dataframe\">\n",
              "  <thead>\n",
              "    <tr style=\"text-align: right;\">\n",
              "      <th></th>\n",
              "      <th>Date/Time</th>\n",
              "      <th>Lat</th>\n",
              "      <th>Lon</th>\n",
              "      <th>Base</th>\n",
              "    </tr>\n",
              "  </thead>\n",
              "  <tbody>\n",
              "    <tr>\n",
              "      <th>0</th>\n",
              "      <td>8/1/2014 0:03:00</td>\n",
              "      <td>40.7366</td>\n",
              "      <td>-73.9906</td>\n",
              "      <td>B02512</td>\n",
              "    </tr>\n",
              "    <tr>\n",
              "      <th>1</th>\n",
              "      <td>8/1/2014 0:09:00</td>\n",
              "      <td>40.7260</td>\n",
              "      <td>-73.9918</td>\n",
              "      <td>B02512</td>\n",
              "    </tr>\n",
              "    <tr>\n",
              "      <th>2</th>\n",
              "      <td>8/1/2014 0:12:00</td>\n",
              "      <td>40.7209</td>\n",
              "      <td>-74.0507</td>\n",
              "      <td>B02512</td>\n",
              "    </tr>\n",
              "    <tr>\n",
              "      <th>3</th>\n",
              "      <td>8/1/2014 0:12:00</td>\n",
              "      <td>40.7387</td>\n",
              "      <td>-73.9856</td>\n",
              "      <td>B02512</td>\n",
              "    </tr>\n",
              "    <tr>\n",
              "      <th>4</th>\n",
              "      <td>8/1/2014 0:12:00</td>\n",
              "      <td>40.7323</td>\n",
              "      <td>-74.0077</td>\n",
              "      <td>B02512</td>\n",
              "    </tr>\n",
              "  </tbody>\n",
              "</table>\n",
              "</div>"
            ],
            "text/plain": [
              "          Date/Time      Lat      Lon    Base\n",
              "0  8/1/2014 0:03:00  40.7366 -73.9906  B02512\n",
              "1  8/1/2014 0:09:00  40.7260 -73.9918  B02512\n",
              "2  8/1/2014 0:12:00  40.7209 -74.0507  B02512\n",
              "3  8/1/2014 0:12:00  40.7387 -73.9856  B02512\n",
              "4  8/1/2014 0:12:00  40.7323 -74.0077  B02512"
            ]
          },
          "metadata": {
            "tags": []
          },
          "execution_count": 6
        }
      ]
    },
    {
      "cell_type": "code",
      "metadata": {
        "colab": {
          "base_uri": "https://localhost:8080/",
          "height": 204
        },
        "id": "YJI6yzHhIKQ1",
        "outputId": "a0eb1477-175b-4e60-a2ba-83f6ecdaba1d"
      },
      "source": [
        "jul.head()"
      ],
      "execution_count": null,
      "outputs": [
        {
          "output_type": "execute_result",
          "data": {
            "text/html": [
              "<div>\n",
              "<style scoped>\n",
              "    .dataframe tbody tr th:only-of-type {\n",
              "        vertical-align: middle;\n",
              "    }\n",
              "\n",
              "    .dataframe tbody tr th {\n",
              "        vertical-align: top;\n",
              "    }\n",
              "\n",
              "    .dataframe thead th {\n",
              "        text-align: right;\n",
              "    }\n",
              "</style>\n",
              "<table border=\"1\" class=\"dataframe\">\n",
              "  <thead>\n",
              "    <tr style=\"text-align: right;\">\n",
              "      <th></th>\n",
              "      <th>Date/Time</th>\n",
              "      <th>Lat</th>\n",
              "      <th>Lon</th>\n",
              "      <th>Base</th>\n",
              "    </tr>\n",
              "  </thead>\n",
              "  <tbody>\n",
              "    <tr>\n",
              "      <th>0</th>\n",
              "      <td>7/1/2014 0:03:00</td>\n",
              "      <td>40.7586</td>\n",
              "      <td>-73.9706</td>\n",
              "      <td>B02512</td>\n",
              "    </tr>\n",
              "    <tr>\n",
              "      <th>1</th>\n",
              "      <td>7/1/2014 0:05:00</td>\n",
              "      <td>40.7605</td>\n",
              "      <td>-73.9994</td>\n",
              "      <td>B02512</td>\n",
              "    </tr>\n",
              "    <tr>\n",
              "      <th>2</th>\n",
              "      <td>7/1/2014 0:06:00</td>\n",
              "      <td>40.7320</td>\n",
              "      <td>-73.9999</td>\n",
              "      <td>B02512</td>\n",
              "    </tr>\n",
              "    <tr>\n",
              "      <th>3</th>\n",
              "      <td>7/1/2014 0:09:00</td>\n",
              "      <td>40.7635</td>\n",
              "      <td>-73.9793</td>\n",
              "      <td>B02512</td>\n",
              "    </tr>\n",
              "    <tr>\n",
              "      <th>4</th>\n",
              "      <td>7/1/2014 0:20:00</td>\n",
              "      <td>40.7204</td>\n",
              "      <td>-74.0047</td>\n",
              "      <td>B02512</td>\n",
              "    </tr>\n",
              "  </tbody>\n",
              "</table>\n",
              "</div>"
            ],
            "text/plain": [
              "          Date/Time      Lat      Lon    Base\n",
              "0  7/1/2014 0:03:00  40.7586 -73.9706  B02512\n",
              "1  7/1/2014 0:05:00  40.7605 -73.9994  B02512\n",
              "2  7/1/2014 0:06:00  40.7320 -73.9999  B02512\n",
              "3  7/1/2014 0:09:00  40.7635 -73.9793  B02512\n",
              "4  7/1/2014 0:20:00  40.7204 -74.0047  B02512"
            ]
          },
          "metadata": {
            "tags": []
          },
          "execution_count": 7
        }
      ]
    },
    {
      "cell_type": "code",
      "metadata": {
        "colab": {
          "base_uri": "https://localhost:8080/",
          "height": 204
        },
        "id": "ojGTfuHcIKqS",
        "outputId": "365f6c86-da57-4a82-f799-ae31c00af0bd"
      },
      "source": [
        "jun.head()"
      ],
      "execution_count": null,
      "outputs": [
        {
          "output_type": "execute_result",
          "data": {
            "text/html": [
              "<div>\n",
              "<style scoped>\n",
              "    .dataframe tbody tr th:only-of-type {\n",
              "        vertical-align: middle;\n",
              "    }\n",
              "\n",
              "    .dataframe tbody tr th {\n",
              "        vertical-align: top;\n",
              "    }\n",
              "\n",
              "    .dataframe thead th {\n",
              "        text-align: right;\n",
              "    }\n",
              "</style>\n",
              "<table border=\"1\" class=\"dataframe\">\n",
              "  <thead>\n",
              "    <tr style=\"text-align: right;\">\n",
              "      <th></th>\n",
              "      <th>Date/Time</th>\n",
              "      <th>Lat</th>\n",
              "      <th>Lon</th>\n",
              "      <th>Base</th>\n",
              "    </tr>\n",
              "  </thead>\n",
              "  <tbody>\n",
              "    <tr>\n",
              "      <th>0</th>\n",
              "      <td>6/1/2014 0:00:00</td>\n",
              "      <td>40.7293</td>\n",
              "      <td>-73.9920</td>\n",
              "      <td>B02512</td>\n",
              "    </tr>\n",
              "    <tr>\n",
              "      <th>1</th>\n",
              "      <td>6/1/2014 0:01:00</td>\n",
              "      <td>40.7131</td>\n",
              "      <td>-74.0097</td>\n",
              "      <td>B02512</td>\n",
              "    </tr>\n",
              "    <tr>\n",
              "      <th>2</th>\n",
              "      <td>6/1/2014 0:04:00</td>\n",
              "      <td>40.3461</td>\n",
              "      <td>-74.6610</td>\n",
              "      <td>B02512</td>\n",
              "    </tr>\n",
              "    <tr>\n",
              "      <th>3</th>\n",
              "      <td>6/1/2014 0:04:00</td>\n",
              "      <td>40.7555</td>\n",
              "      <td>-73.9833</td>\n",
              "      <td>B02512</td>\n",
              "    </tr>\n",
              "    <tr>\n",
              "      <th>4</th>\n",
              "      <td>6/1/2014 0:07:00</td>\n",
              "      <td>40.6880</td>\n",
              "      <td>-74.1831</td>\n",
              "      <td>B02512</td>\n",
              "    </tr>\n",
              "  </tbody>\n",
              "</table>\n",
              "</div>"
            ],
            "text/plain": [
              "          Date/Time      Lat      Lon    Base\n",
              "0  6/1/2014 0:00:00  40.7293 -73.9920  B02512\n",
              "1  6/1/2014 0:01:00  40.7131 -74.0097  B02512\n",
              "2  6/1/2014 0:04:00  40.3461 -74.6610  B02512\n",
              "3  6/1/2014 0:04:00  40.7555 -73.9833  B02512\n",
              "4  6/1/2014 0:07:00  40.6880 -74.1831  B02512"
            ]
          },
          "metadata": {
            "tags": []
          },
          "execution_count": 8
        }
      ]
    },
    {
      "cell_type": "code",
      "metadata": {
        "colab": {
          "base_uri": "https://localhost:8080/",
          "height": 204
        },
        "id": "K9o8ZgL9IK7r",
        "outputId": "8a4d21d2-5803-457b-e5d6-517bd854d01a"
      },
      "source": [
        "may.head()"
      ],
      "execution_count": null,
      "outputs": [
        {
          "output_type": "execute_result",
          "data": {
            "text/html": [
              "<div>\n",
              "<style scoped>\n",
              "    .dataframe tbody tr th:only-of-type {\n",
              "        vertical-align: middle;\n",
              "    }\n",
              "\n",
              "    .dataframe tbody tr th {\n",
              "        vertical-align: top;\n",
              "    }\n",
              "\n",
              "    .dataframe thead th {\n",
              "        text-align: right;\n",
              "    }\n",
              "</style>\n",
              "<table border=\"1\" class=\"dataframe\">\n",
              "  <thead>\n",
              "    <tr style=\"text-align: right;\">\n",
              "      <th></th>\n",
              "      <th>Date/Time</th>\n",
              "      <th>Lat</th>\n",
              "      <th>Lon</th>\n",
              "      <th>Base</th>\n",
              "    </tr>\n",
              "  </thead>\n",
              "  <tbody>\n",
              "    <tr>\n",
              "      <th>0</th>\n",
              "      <td>5/1/2014 0:02:00</td>\n",
              "      <td>40.7521</td>\n",
              "      <td>-73.9914</td>\n",
              "      <td>B02512</td>\n",
              "    </tr>\n",
              "    <tr>\n",
              "      <th>1</th>\n",
              "      <td>5/1/2014 0:06:00</td>\n",
              "      <td>40.6965</td>\n",
              "      <td>-73.9715</td>\n",
              "      <td>B02512</td>\n",
              "    </tr>\n",
              "    <tr>\n",
              "      <th>2</th>\n",
              "      <td>5/1/2014 0:15:00</td>\n",
              "      <td>40.7464</td>\n",
              "      <td>-73.9838</td>\n",
              "      <td>B02512</td>\n",
              "    </tr>\n",
              "    <tr>\n",
              "      <th>3</th>\n",
              "      <td>5/1/2014 0:17:00</td>\n",
              "      <td>40.7463</td>\n",
              "      <td>-74.0011</td>\n",
              "      <td>B02512</td>\n",
              "    </tr>\n",
              "    <tr>\n",
              "      <th>4</th>\n",
              "      <td>5/1/2014 0:17:00</td>\n",
              "      <td>40.7594</td>\n",
              "      <td>-73.9734</td>\n",
              "      <td>B02512</td>\n",
              "    </tr>\n",
              "  </tbody>\n",
              "</table>\n",
              "</div>"
            ],
            "text/plain": [
              "          Date/Time      Lat      Lon    Base\n",
              "0  5/1/2014 0:02:00  40.7521 -73.9914  B02512\n",
              "1  5/1/2014 0:06:00  40.6965 -73.9715  B02512\n",
              "2  5/1/2014 0:15:00  40.7464 -73.9838  B02512\n",
              "3  5/1/2014 0:17:00  40.7463 -74.0011  B02512\n",
              "4  5/1/2014 0:17:00  40.7594 -73.9734  B02512"
            ]
          },
          "metadata": {
            "tags": []
          },
          "execution_count": 9
        }
      ]
    },
    {
      "cell_type": "code",
      "metadata": {
        "colab": {
          "base_uri": "https://localhost:8080/",
          "height": 204
        },
        "id": "DVnwis2EILMR",
        "outputId": "afebdaf7-8318-431b-9783-7f032b84a9c8"
      },
      "source": [
        "sep.head()"
      ],
      "execution_count": null,
      "outputs": [
        {
          "output_type": "execute_result",
          "data": {
            "text/html": [
              "<div>\n",
              "<style scoped>\n",
              "    .dataframe tbody tr th:only-of-type {\n",
              "        vertical-align: middle;\n",
              "    }\n",
              "\n",
              "    .dataframe tbody tr th {\n",
              "        vertical-align: top;\n",
              "    }\n",
              "\n",
              "    .dataframe thead th {\n",
              "        text-align: right;\n",
              "    }\n",
              "</style>\n",
              "<table border=\"1\" class=\"dataframe\">\n",
              "  <thead>\n",
              "    <tr style=\"text-align: right;\">\n",
              "      <th></th>\n",
              "      <th>Date/Time</th>\n",
              "      <th>Lat</th>\n",
              "      <th>Lon</th>\n",
              "      <th>Base</th>\n",
              "    </tr>\n",
              "  </thead>\n",
              "  <tbody>\n",
              "    <tr>\n",
              "      <th>0</th>\n",
              "      <td>9/1/2014 0:01:00</td>\n",
              "      <td>40.2201</td>\n",
              "      <td>-74.0021</td>\n",
              "      <td>B02512</td>\n",
              "    </tr>\n",
              "    <tr>\n",
              "      <th>1</th>\n",
              "      <td>9/1/2014 0:01:00</td>\n",
              "      <td>40.7500</td>\n",
              "      <td>-74.0027</td>\n",
              "      <td>B02512</td>\n",
              "    </tr>\n",
              "    <tr>\n",
              "      <th>2</th>\n",
              "      <td>9/1/2014 0:03:00</td>\n",
              "      <td>40.7559</td>\n",
              "      <td>-73.9864</td>\n",
              "      <td>B02512</td>\n",
              "    </tr>\n",
              "    <tr>\n",
              "      <th>3</th>\n",
              "      <td>9/1/2014 0:06:00</td>\n",
              "      <td>40.7450</td>\n",
              "      <td>-73.9889</td>\n",
              "      <td>B02512</td>\n",
              "    </tr>\n",
              "    <tr>\n",
              "      <th>4</th>\n",
              "      <td>9/1/2014 0:11:00</td>\n",
              "      <td>40.8145</td>\n",
              "      <td>-73.9444</td>\n",
              "      <td>B02512</td>\n",
              "    </tr>\n",
              "  </tbody>\n",
              "</table>\n",
              "</div>"
            ],
            "text/plain": [
              "          Date/Time      Lat      Lon    Base\n",
              "0  9/1/2014 0:01:00  40.2201 -74.0021  B02512\n",
              "1  9/1/2014 0:01:00  40.7500 -74.0027  B02512\n",
              "2  9/1/2014 0:03:00  40.7559 -73.9864  B02512\n",
              "3  9/1/2014 0:06:00  40.7450 -73.9889  B02512\n",
              "4  9/1/2014 0:11:00  40.8145 -73.9444  B02512"
            ]
          },
          "metadata": {
            "tags": []
          },
          "execution_count": 10
        }
      ]
    },
    {
      "cell_type": "code",
      "metadata": {
        "id": "Ywmv_jLVILdW"
      },
      "source": [
        "# Merging the multiple dataframe into one dataframe\r\n",
        "df = pd.concat([apr,may,jun,jul,aug,sep])"
      ],
      "execution_count": null,
      "outputs": []
    },
    {
      "cell_type": "code",
      "metadata": {
        "colab": {
          "base_uri": "https://localhost:8080/",
          "height": 204
        },
        "id": "SB_uQie_I6NT",
        "outputId": "d3d72446-1642-4df6-a019-bf1ed88803d8"
      },
      "source": [
        "df.head()"
      ],
      "execution_count": null,
      "outputs": [
        {
          "output_type": "execute_result",
          "data": {
            "text/html": [
              "<div>\n",
              "<style scoped>\n",
              "    .dataframe tbody tr th:only-of-type {\n",
              "        vertical-align: middle;\n",
              "    }\n",
              "\n",
              "    .dataframe tbody tr th {\n",
              "        vertical-align: top;\n",
              "    }\n",
              "\n",
              "    .dataframe thead th {\n",
              "        text-align: right;\n",
              "    }\n",
              "</style>\n",
              "<table border=\"1\" class=\"dataframe\">\n",
              "  <thead>\n",
              "    <tr style=\"text-align: right;\">\n",
              "      <th></th>\n",
              "      <th>Date/Time</th>\n",
              "      <th>Lat</th>\n",
              "      <th>Lon</th>\n",
              "      <th>Base</th>\n",
              "    </tr>\n",
              "  </thead>\n",
              "  <tbody>\n",
              "    <tr>\n",
              "      <th>0</th>\n",
              "      <td>4/1/2014 0:11:00</td>\n",
              "      <td>40.7690</td>\n",
              "      <td>-73.9549</td>\n",
              "      <td>B02512</td>\n",
              "    </tr>\n",
              "    <tr>\n",
              "      <th>1</th>\n",
              "      <td>4/1/2014 0:17:00</td>\n",
              "      <td>40.7267</td>\n",
              "      <td>-74.0345</td>\n",
              "      <td>B02512</td>\n",
              "    </tr>\n",
              "    <tr>\n",
              "      <th>2</th>\n",
              "      <td>4/1/2014 0:21:00</td>\n",
              "      <td>40.7316</td>\n",
              "      <td>-73.9873</td>\n",
              "      <td>B02512</td>\n",
              "    </tr>\n",
              "    <tr>\n",
              "      <th>3</th>\n",
              "      <td>4/1/2014 0:28:00</td>\n",
              "      <td>40.7588</td>\n",
              "      <td>-73.9776</td>\n",
              "      <td>B02512</td>\n",
              "    </tr>\n",
              "    <tr>\n",
              "      <th>4</th>\n",
              "      <td>4/1/2014 0:33:00</td>\n",
              "      <td>40.7594</td>\n",
              "      <td>-73.9722</td>\n",
              "      <td>B02512</td>\n",
              "    </tr>\n",
              "  </tbody>\n",
              "</table>\n",
              "</div>"
            ],
            "text/plain": [
              "          Date/Time      Lat      Lon    Base\n",
              "0  4/1/2014 0:11:00  40.7690 -73.9549  B02512\n",
              "1  4/1/2014 0:17:00  40.7267 -74.0345  B02512\n",
              "2  4/1/2014 0:21:00  40.7316 -73.9873  B02512\n",
              "3  4/1/2014 0:28:00  40.7588 -73.9776  B02512\n",
              "4  4/1/2014 0:33:00  40.7594 -73.9722  B02512"
            ]
          },
          "metadata": {
            "tags": []
          },
          "execution_count": 12
        }
      ]
    },
    {
      "cell_type": "code",
      "metadata": {
        "colab": {
          "base_uri": "https://localhost:8080/"
        },
        "id": "Icl9Ns8IJTlB",
        "outputId": "f3b6c2cd-a15a-444b-ebeb-20fe6c2e30f4"
      },
      "source": [
        "df.info()"
      ],
      "execution_count": null,
      "outputs": [
        {
          "output_type": "stream",
          "text": [
            "<class 'pandas.core.frame.DataFrame'>\n",
            "Int64Index: 4534327 entries, 0 to 1028135\n",
            "Data columns (total 4 columns):\n",
            " #   Column     Dtype  \n",
            "---  ------     -----  \n",
            " 0   Date/Time  object \n",
            " 1   Lat        float64\n",
            " 2   Lon        float64\n",
            " 3   Base       object \n",
            "dtypes: float64(2), object(2)\n",
            "memory usage: 173.0+ MB\n"
          ],
          "name": "stdout"
        }
      ]
    },
    {
      "cell_type": "code",
      "metadata": {
        "colab": {
          "base_uri": "https://localhost:8080/"
        },
        "id": "EzMnLqa3Jfq1",
        "outputId": "9770931f-317c-47dd-87a5-f966a4c92ee0"
      },
      "source": [
        "df.isnull().sum()"
      ],
      "execution_count": null,
      "outputs": [
        {
          "output_type": "execute_result",
          "data": {
            "text/plain": [
              "Date/Time    0\n",
              "Lat          0\n",
              "Lon          0\n",
              "Base         0\n",
              "dtype: int64"
            ]
          },
          "metadata": {
            "tags": []
          },
          "execution_count": 14
        }
      ]
    },
    {
      "cell_type": "code",
      "metadata": {
        "id": "up5R2p18Jf8A"
      },
      "source": [
        "# overwriting data after changing format \r\n",
        "df[\"Date/Time\"]= pd.to_datetime(df[\"Date/Time\"]) "
      ],
      "execution_count": null,
      "outputs": []
    },
    {
      "cell_type": "code",
      "metadata": {
        "colab": {
          "base_uri": "https://localhost:8080/"
        },
        "id": "G2twbfkQJgMb",
        "outputId": "20fb3b31-0055-4cdf-c6c5-bb0914726975"
      },
      "source": [
        "df.info()"
      ],
      "execution_count": null,
      "outputs": [
        {
          "output_type": "stream",
          "text": [
            "<class 'pandas.core.frame.DataFrame'>\n",
            "Int64Index: 4534327 entries, 0 to 1028135\n",
            "Data columns (total 4 columns):\n",
            " #   Column     Dtype         \n",
            "---  ------     -----         \n",
            " 0   Date/Time  datetime64[ns]\n",
            " 1   Lat        float64       \n",
            " 2   Lon        float64       \n",
            " 3   Base       object        \n",
            "dtypes: datetime64[ns](1), float64(2), object(1)\n",
            "memory usage: 173.0+ MB\n"
          ],
          "name": "stdout"
        }
      ]
    },
    {
      "cell_type": "code",
      "metadata": {
        "id": "1OAgJbrNqZ3T"
      },
      "source": [
        "#Creating the year column form date time stamp.\r\n",
        "df['date'] = df['Date/Time'].dt.date\r\n",
        "#Creating the month column form date time stamp.\r\n",
        "df['month'] = df['Date/Time'].dt.month\r\n",
        "#Creating the day column form date time stamp.\r\n",
        "df['day'] = df['Date/Time'].dt.day\r\n",
        "#Creating the hour column form date time stamp.\r\n",
        "df['hour'] = df['Date/Time'].dt.hour\r\n",
        "#Creating the day_of_week column form date time stamp.\r\n",
        "df['day_of_week'] = df['Date/Time'].dt.day_name()"
      ],
      "execution_count": null,
      "outputs": []
    },
    {
      "cell_type": "code",
      "metadata": {
        "colab": {
          "base_uri": "https://localhost:8080/",
          "height": 204
        },
        "id": "NlXt9C3FqaHF",
        "outputId": "f3d814fb-48fc-4278-e229-d379b95b8595"
      },
      "source": [
        "df.head()"
      ],
      "execution_count": null,
      "outputs": [
        {
          "output_type": "execute_result",
          "data": {
            "text/html": [
              "<div>\n",
              "<style scoped>\n",
              "    .dataframe tbody tr th:only-of-type {\n",
              "        vertical-align: middle;\n",
              "    }\n",
              "\n",
              "    .dataframe tbody tr th {\n",
              "        vertical-align: top;\n",
              "    }\n",
              "\n",
              "    .dataframe thead th {\n",
              "        text-align: right;\n",
              "    }\n",
              "</style>\n",
              "<table border=\"1\" class=\"dataframe\">\n",
              "  <thead>\n",
              "    <tr style=\"text-align: right;\">\n",
              "      <th></th>\n",
              "      <th>Date/Time</th>\n",
              "      <th>Lat</th>\n",
              "      <th>Lon</th>\n",
              "      <th>Base</th>\n",
              "      <th>date</th>\n",
              "      <th>month</th>\n",
              "      <th>day</th>\n",
              "      <th>hour</th>\n",
              "      <th>day_of_week</th>\n",
              "    </tr>\n",
              "  </thead>\n",
              "  <tbody>\n",
              "    <tr>\n",
              "      <th>0</th>\n",
              "      <td>2014-04-01 00:11:00</td>\n",
              "      <td>40.7690</td>\n",
              "      <td>-73.9549</td>\n",
              "      <td>B02512</td>\n",
              "      <td>2014-04-01</td>\n",
              "      <td>4</td>\n",
              "      <td>1</td>\n",
              "      <td>0</td>\n",
              "      <td>Tuesday</td>\n",
              "    </tr>\n",
              "    <tr>\n",
              "      <th>1</th>\n",
              "      <td>2014-04-01 00:17:00</td>\n",
              "      <td>40.7267</td>\n",
              "      <td>-74.0345</td>\n",
              "      <td>B02512</td>\n",
              "      <td>2014-04-01</td>\n",
              "      <td>4</td>\n",
              "      <td>1</td>\n",
              "      <td>0</td>\n",
              "      <td>Tuesday</td>\n",
              "    </tr>\n",
              "    <tr>\n",
              "      <th>2</th>\n",
              "      <td>2014-04-01 00:21:00</td>\n",
              "      <td>40.7316</td>\n",
              "      <td>-73.9873</td>\n",
              "      <td>B02512</td>\n",
              "      <td>2014-04-01</td>\n",
              "      <td>4</td>\n",
              "      <td>1</td>\n",
              "      <td>0</td>\n",
              "      <td>Tuesday</td>\n",
              "    </tr>\n",
              "    <tr>\n",
              "      <th>3</th>\n",
              "      <td>2014-04-01 00:28:00</td>\n",
              "      <td>40.7588</td>\n",
              "      <td>-73.9776</td>\n",
              "      <td>B02512</td>\n",
              "      <td>2014-04-01</td>\n",
              "      <td>4</td>\n",
              "      <td>1</td>\n",
              "      <td>0</td>\n",
              "      <td>Tuesday</td>\n",
              "    </tr>\n",
              "    <tr>\n",
              "      <th>4</th>\n",
              "      <td>2014-04-01 00:33:00</td>\n",
              "      <td>40.7594</td>\n",
              "      <td>-73.9722</td>\n",
              "      <td>B02512</td>\n",
              "      <td>2014-04-01</td>\n",
              "      <td>4</td>\n",
              "      <td>1</td>\n",
              "      <td>0</td>\n",
              "      <td>Tuesday</td>\n",
              "    </tr>\n",
              "  </tbody>\n",
              "</table>\n",
              "</div>"
            ],
            "text/plain": [
              "            Date/Time      Lat      Lon    Base  ... month  day  hour  day_of_week\n",
              "0 2014-04-01 00:11:00  40.7690 -73.9549  B02512  ...     4    1     0      Tuesday\n",
              "1 2014-04-01 00:17:00  40.7267 -74.0345  B02512  ...     4    1     0      Tuesday\n",
              "2 2014-04-01 00:21:00  40.7316 -73.9873  B02512  ...     4    1     0      Tuesday\n",
              "3 2014-04-01 00:28:00  40.7588 -73.9776  B02512  ...     4    1     0      Tuesday\n",
              "4 2014-04-01 00:33:00  40.7594 -73.9722  B02512  ...     4    1     0      Tuesday\n",
              "\n",
              "[5 rows x 9 columns]"
            ]
          },
          "metadata": {
            "tags": []
          },
          "execution_count": 18
        }
      ]
    },
    {
      "cell_type": "code",
      "metadata": {
        "colab": {
          "base_uri": "https://localhost:8080/",
          "height": 52
        },
        "id": "-FqIO4b16wrl",
        "outputId": "cf362ee9-65a2-4b1c-82a0-fabbaee25424"
      },
      "source": [
        "'''\r\n",
        "#fig = plt.figure(figsize = (10, 5)) \r\n",
        "  \r\n",
        "# creating the bar plot \r\n",
        "plt.bar(df['month'], df['Base'], color ='maroon')   \r\n",
        "plt.xlabel(\"Courses offered\") \r\n",
        "plt.ylabel(\"No. of students enrolled\") \r\n",
        "plt.title(\"Students enrolled in different courses\") \r\n",
        "plt.show()\r\n",
        "''' "
      ],
      "execution_count": null,
      "outputs": [
        {
          "output_type": "execute_result",
          "data": {
            "application/vnd.google.colaboratory.intrinsic+json": {
              "type": "string"
            },
            "text/plain": [
              "'\\n#fig = plt.figure(figsize = (10, 5)) \\n  \\n# creating the bar plot \\nplt.bar(df[\\'month\\'], df[\\'Base\\'], color =\\'maroon\\')   \\nplt.xlabel(\"Courses offered\") \\nplt.ylabel(\"No. of students enrolled\") \\nplt.title(\"Students enrolled in different courses\") \\nplt.show()\\n'"
            ]
          },
          "metadata": {
            "tags": []
          },
          "execution_count": 19
        }
      ]
    },
    {
      "cell_type": "code",
      "metadata": {
        "id": "5EQ6rETZu2IT",
        "colab": {
          "base_uri": "https://localhost:8080/",
          "height": 400
        },
        "outputId": "bb6095eb-ad29-46d1-ddef-7aaa52f7fba9"
      },
      "source": [
        "sns.catplot(x='Base', data=df, kind='count')"
      ],
      "execution_count": null,
      "outputs": [
        {
          "output_type": "execute_result",
          "data": {
            "text/plain": [
              "<seaborn.axisgrid.FacetGrid at 0x7f993f6c0ba8>"
            ]
          },
          "metadata": {
            "tags": []
          },
          "execution_count": 20
        },
        {
          "output_type": "display_data",
          "data": {
            "image/png": "[encoded data removed]",
            "text/plain": [
              "<Figure size 360x360 with 1 Axes>"
            ]
          },
          "metadata": {
            "tags": [],
            "needs_background": "light"
          }
        }
      ]
    },
    {
      "cell_type": "code",
      "metadata": {
        "id": "w3IUMcl3u1z5"
      },
      "source": [
        "df1 = df.groupby(['hour', 'month'])['hour'].count().unstack('month')"
      ],
      "execution_count": 59,
      "outputs": []
    },
    {
      "cell_type": "code",
      "metadata": {
        "colab": {
          "base_uri": "https://localhost:8080/",
          "height": 235
        },
        "id": "MdXsxzK9im8p",
        "outputId": "d03ff0cc-5ba5-4f75-fd40-c27f4a609f59"
      },
      "source": [
        "df1.head()"
      ],
      "execution_count": 60,
      "outputs": [
        {
          "output_type": "execute_result",
          "data": {
            "text/html": [
              "<div>\n",
              "<style scoped>\n",
              "    .dataframe tbody tr th:only-of-type {\n",
              "        vertical-align: middle;\n",
              "    }\n",
              "\n",
              "    .dataframe tbody tr th {\n",
              "        vertical-align: top;\n",
              "    }\n",
              "\n",
              "    .dataframe thead th {\n",
              "        text-align: right;\n",
              "    }\n",
              "</style>\n",
              "<table border=\"1\" class=\"dataframe\">\n",
              "  <thead>\n",
              "    <tr style=\"text-align: right;\">\n",
              "      <th>month</th>\n",
              "      <th>4</th>\n",
              "      <th>5</th>\n",
              "      <th>6</th>\n",
              "      <th>7</th>\n",
              "      <th>8</th>\n",
              "      <th>9</th>\n",
              "    </tr>\n",
              "    <tr>\n",
              "      <th>hour</th>\n",
              "      <th></th>\n",
              "      <th></th>\n",
              "      <th></th>\n",
              "      <th></th>\n",
              "      <th></th>\n",
              "      <th></th>\n",
              "    </tr>\n",
              "  </thead>\n",
              "  <tbody>\n",
              "    <tr>\n",
              "      <th>0</th>\n",
              "      <td>11910</td>\n",
              "      <td>13875</td>\n",
              "      <td>14514</td>\n",
              "      <td>17953</td>\n",
              "      <td>21451</td>\n",
              "      <td>24133</td>\n",
              "    </tr>\n",
              "    <tr>\n",
              "      <th>1</th>\n",
              "      <td>7769</td>\n",
              "      <td>8186</td>\n",
              "      <td>9167</td>\n",
              "      <td>11527</td>\n",
              "      <td>14471</td>\n",
              "      <td>16107</td>\n",
              "    </tr>\n",
              "    <tr>\n",
              "      <th>2</th>\n",
              "      <td>4935</td>\n",
              "      <td>5372</td>\n",
              "      <td>6189</td>\n",
              "      <td>8562</td>\n",
              "      <td>10105</td>\n",
              "      <td>10702</td>\n",
              "    </tr>\n",
              "    <tr>\n",
              "      <th>3</th>\n",
              "      <td>5040</td>\n",
              "      <td>5946</td>\n",
              "      <td>6937</td>\n",
              "      <td>9199</td>\n",
              "      <td>10376</td>\n",
              "      <td>10789</td>\n",
              "    </tr>\n",
              "    <tr>\n",
              "      <th>4</th>\n",
              "      <td>6095</td>\n",
              "      <td>6945</td>\n",
              "      <td>7701</td>\n",
              "      <td>10040</td>\n",
              "      <td>11774</td>\n",
              "      <td>12675</td>\n",
              "    </tr>\n",
              "  </tbody>\n",
              "</table>\n",
              "</div>"
            ],
            "text/plain": [
              "month      4      5      6      7      8      9\n",
              "hour                                           \n",
              "0      11910  13875  14514  17953  21451  24133\n",
              "1       7769   8186   9167  11527  14471  16107\n",
              "2       4935   5372   6189   8562  10105  10702\n",
              "3       5040   5946   6937   9199  10376  10789\n",
              "4       6095   6945   7701  10040  11774  12675"
            ]
          },
          "metadata": {
            "tags": []
          },
          "execution_count": 60
        }
      ]
    },
    {
      "cell_type": "code",
      "metadata": {
        "colab": {
          "base_uri": "https://localhost:8080/",
          "height": 539
        },
        "id": "NfEdHxc4ioXA",
        "outputId": "6a4bbe3b-ae80-4811-a659-d8a37855ae17"
      },
      "source": [
        "#Plotting the trips by the hours in a day\r\n",
        "sns.set()\r\n",
        "df1.plot(kind = 'bar', stacked = True, title = 'Trips by Hour and Mounth',figsize=(20,8))\r\n",
        "plt.ylabel('Total')"
      ],
      "execution_count": 67,
      "outputs": [
        {
          "output_type": "execute_result",
          "data": {
            "text/plain": [
              "Text(0, 0.5, 'Total')"
            ]
          },
          "metadata": {
            "tags": []
          },
          "execution_count": 67
        },
        {
          "output_type": "display_data",
          "data": {
            "image/png": "[encoded data removed]",
            "text/plain": [
              "<Figure size 1440x576 with 1 Axes>"
            ]
          },
          "metadata": {
            "tags": []
          }
        }
      ]
    },
    {
      "cell_type": "code",
      "metadata": {
        "colab": {
          "base_uri": "https://localhost:8080/",
          "height": 539
        },
        "id": "BB-T_rWvkR7z",
        "outputId": "e5d3a4b0-6582-4a1b-866e-acd16e150e6a"
      },
      "source": [
        "sns.set()\r\n",
        "df.hour.value_counts(sort = False).plot(kind = 'bar', title = 'Trips Every Hour', color = ['black', 'red'],figsize=(20,8)).set_xlabel('Hour')\r\n",
        "plt.ylabel('Total')"
      ],
      "execution_count": 75,
      "outputs": [
        {
          "output_type": "execute_result",
          "data": {
            "text/plain": [
              "Text(0, 0.5, 'Total')"
            ]
          },
          "metadata": {
            "tags": []
          },
          "execution_count": 75
        },
        {
          "output_type": "display_data",
          "data": {
            "image/png": "[encoded data removed]",
            "text/plain": [
              "<Figure size 1440x576 with 1 Axes>"
            ]
          },
          "metadata": {
            "tags": []
          }
        }
      ]
    },
    {
      "cell_type": "code",
      "metadata": {
        "colab": {
          "base_uri": "https://localhost:8080/",
          "height": 539
        },
        "id": "BVCy6Y92lso4",
        "outputId": "6ff7a251-21a0-4905-a0a4-91404468dee5"
      },
      "source": [
        "sns.set()\r\n",
        "df.day.value_counts().sort_index().plot(kind = 'bar',title = 'Trips Every Day',figsize=(20,8)).set_xlabel('Day')\r\n",
        "plt.ylabel('Total')"
      ],
      "execution_count": 76,
      "outputs": [
        {
          "output_type": "execute_result",
          "data": {
            "text/plain": [
              "Text(0, 0.5, 'Total')"
            ]
          },
          "metadata": {
            "tags": []
          },
          "execution_count": 76
        },
        {
          "output_type": "display_data",
          "data": {
            "image/png": "[encoded data removed]",
            "text/plain": [
              "<Figure size 1440x576 with 1 Axes>"
            ]
          },
          "metadata": {
            "tags": []
          }
        }
      ]
    },
    {
      "cell_type": "code",
      "metadata": {
        "id": "rBdTPHd_6xFy"
      },
      "source": [
        "# Cleaning the dataset\r\n",
        "del df['Lat'],df['Lon']"
      ],
      "execution_count": null,
      "outputs": []
    },
    {
      "cell_type": "code",
      "metadata": {
        "id": "8-qPVIF-6xa-"
      },
      "source": [
        "tym = df.groupby('date')"
      ],
      "execution_count": null,
      "outputs": []
    },
    {
      "cell_type": "code",
      "metadata": {
        "colab": {
          "base_uri": "https://localhost:8080/"
        },
        "id": "1BB-XOrS-srW",
        "outputId": "ee8d8967-a58b-46c4-ab53-1688aae66e58"
      },
      "source": [
        "tym.tail()"
      ],
      "execution_count": null,
      "outputs": [
        {
          "output_type": "execute_result",
          "data": {
            "text/html": [
              "<div>\n",
              "<style scoped>\n",
              "    .dataframe tbody tr th:only-of-type {\n",
              "        vertical-align: middle;\n",
              "    }\n",
              "\n",
              "    .dataframe tbody tr th {\n",
              "        vertical-align: top;\n",
              "    }\n",
              "\n",
              "    .dataframe thead th {\n",
              "        text-align: right;\n",
              "    }\n",
              "</style>\n",
              "<table border=\"1\" class=\"dataframe\">\n",
              "  <thead>\n",
              "    <tr style=\"text-align: right;\">\n",
              "      <th></th>\n",
              "      <th>Date/Time</th>\n",
              "      <th>Base</th>\n",
              "      <th>date</th>\n",
              "      <th>month</th>\n",
              "      <th>day</th>\n",
              "      <th>hour</th>\n",
              "      <th>day_of_week</th>\n",
              "    </tr>\n",
              "  </thead>\n",
              "  <tbody>\n",
              "    <tr>\n",
              "      <th>554926</th>\n",
              "      <td>2014-04-01 23:21:00</td>\n",
              "      <td>B02764</td>\n",
              "      <td>2014-04-01</td>\n",
              "      <td>4</td>\n",
              "      <td>1</td>\n",
              "      <td>23</td>\n",
              "      <td>Tuesday</td>\n",
              "    </tr>\n",
              "    <tr>\n",
              "      <th>554927</th>\n",
              "      <td>2014-04-01 23:25:00</td>\n",
              "      <td>B02764</td>\n",
              "      <td>2014-04-01</td>\n",
              "      <td>4</td>\n",
              "      <td>1</td>\n",
              "      <td>23</td>\n",
              "      <td>Tuesday</td>\n",
              "    </tr>\n",
              "    <tr>\n",
              "      <th>554928</th>\n",
              "      <td>2014-04-01 23:38:00</td>\n",
              "      <td>B02764</td>\n",
              "      <td>2014-04-01</td>\n",
              "      <td>4</td>\n",
              "      <td>1</td>\n",
              "      <td>23</td>\n",
              "      <td>Tuesday</td>\n",
              "    </tr>\n",
              "    <tr>\n",
              "      <th>554929</th>\n",
              "      <td>2014-04-01 23:41:00</td>\n",
              "      <td>B02764</td>\n",
              "      <td>2014-04-01</td>\n",
              "      <td>4</td>\n",
              "      <td>1</td>\n",
              "      <td>23</td>\n",
              "      <td>Tuesday</td>\n",
              "    </tr>\n",
              "    <tr>\n",
              "      <th>554930</th>\n",
              "      <td>2014-04-01 23:46:00</td>\n",
              "      <td>B02764</td>\n",
              "      <td>2014-04-01</td>\n",
              "      <td>4</td>\n",
              "      <td>1</td>\n",
              "      <td>23</td>\n",
              "      <td>Tuesday</td>\n",
              "    </tr>\n",
              "    <tr>\n",
              "      <th>...</th>\n",
              "      <td>...</td>\n",
              "      <td>...</td>\n",
              "      <td>...</td>\n",
              "      <td>...</td>\n",
              "      <td>...</td>\n",
              "      <td>...</td>\n",
              "      <td>...</td>\n",
              "    </tr>\n",
              "    <tr>\n",
              "      <th>1028131</th>\n",
              "      <td>2014-09-30 22:57:00</td>\n",
              "      <td>B02764</td>\n",
              "      <td>2014-09-30</td>\n",
              "      <td>9</td>\n",
              "      <td>30</td>\n",
              "      <td>22</td>\n",
              "      <td>Tuesday</td>\n",
              "    </tr>\n",
              "    <tr>\n",
              "      <th>1028132</th>\n",
              "      <td>2014-09-30 22:57:00</td>\n",
              "      <td>B02764</td>\n",
              "      <td>2014-09-30</td>\n",
              "      <td>9</td>\n",
              "      <td>30</td>\n",
              "      <td>22</td>\n",
              "      <td>Tuesday</td>\n",
              "    </tr>\n",
              "    <tr>\n",
              "      <th>1028133</th>\n",
              "      <td>2014-09-30 22:58:00</td>\n",
              "      <td>B02764</td>\n",
              "      <td>2014-09-30</td>\n",
              "      <td>9</td>\n",
              "      <td>30</td>\n",
              "      <td>22</td>\n",
              "      <td>Tuesday</td>\n",
              "    </tr>\n",
              "    <tr>\n",
              "      <th>1028134</th>\n",
              "      <td>2014-09-30 22:58:00</td>\n",
              "      <td>B02764</td>\n",
              "      <td>2014-09-30</td>\n",
              "      <td>9</td>\n",
              "      <td>30</td>\n",
              "      <td>22</td>\n",
              "      <td>Tuesday</td>\n",
              "    </tr>\n",
              "    <tr>\n",
              "      <th>1028135</th>\n",
              "      <td>2014-09-30 22:58:00</td>\n",
              "      <td>B02764</td>\n",
              "      <td>2014-09-30</td>\n",
              "      <td>9</td>\n",
              "      <td>30</td>\n",
              "      <td>22</td>\n",
              "      <td>Tuesday</td>\n",
              "    </tr>\n",
              "  </tbody>\n",
              "</table>\n",
              "<p>915 rows × 7 columns</p>\n",
              "</div>"
            ],
            "text/plain": [
              "                  Date/Time    Base        date  month  day  hour day_of_week\n",
              "554926  2014-04-01 23:21:00  B02764  2014-04-01      4    1    23     Tuesday\n",
              "554927  2014-04-01 23:25:00  B02764  2014-04-01      4    1    23     Tuesday\n",
              "554928  2014-04-01 23:38:00  B02764  2014-04-01      4    1    23     Tuesday\n",
              "554929  2014-04-01 23:41:00  B02764  2014-04-01      4    1    23     Tuesday\n",
              "554930  2014-04-01 23:46:00  B02764  2014-04-01      4    1    23     Tuesday\n",
              "...                     ...     ...         ...    ...  ...   ...         ...\n",
              "1028131 2014-09-30 22:57:00  B02764  2014-09-30      9   30    22     Tuesday\n",
              "1028132 2014-09-30 22:57:00  B02764  2014-09-30      9   30    22     Tuesday\n",
              "1028133 2014-09-30 22:58:00  B02764  2014-09-30      9   30    22     Tuesday\n",
              "1028134 2014-09-30 22:58:00  B02764  2014-09-30      9   30    22     Tuesday\n",
              "1028135 2014-09-30 22:58:00  B02764  2014-09-30      9   30    22     Tuesday\n",
              "\n",
              "[915 rows x 7 columns]"
            ]
          },
          "metadata": {
            "tags": []
          },
          "execution_count": 23
        }
      ]
    },
    {
      "cell_type": "code",
      "metadata": {
        "colab": {
          "base_uri": "https://localhost:8080/"
        },
        "id": "0XAd907Ulk4u",
        "outputId": "ab9c9496-f492-492d-ed52-c0fd9f5a870a"
      },
      "source": [
        "type(tym)"
      ],
      "execution_count": null,
      "outputs": [
        {
          "output_type": "execute_result",
          "data": {
            "text/plain": [
              "pandas.core.groupby.generic.DataFrameGroupBy"
            ]
          },
          "metadata": {
            "tags": []
          },
          "execution_count": 24
        }
      ]
    },
    {
      "cell_type": "code",
      "metadata": {
        "id": "Tj-67VDvpk7w"
      },
      "source": [
        "data = pd.DataFrame(tym.size().reset_index(name = \"Group_Count\"))"
      ],
      "execution_count": null,
      "outputs": []
    },
    {
      "cell_type": "code",
      "metadata": {
        "colab": {
          "base_uri": "https://localhost:8080/"
        },
        "id": "E9dT9Ifm64B_",
        "outputId": "cd54a039-6d71-4e85-d185-4a62bdb9e2da"
      },
      "source": [
        "data.info()"
      ],
      "execution_count": null,
      "outputs": [
        {
          "output_type": "stream",
          "text": [
            "<class 'pandas.core.frame.DataFrame'>\n",
            "RangeIndex: 183 entries, 0 to 182\n",
            "Data columns (total 2 columns):\n",
            " #   Column       Non-Null Count  Dtype \n",
            "---  ------       --------------  ----- \n",
            " 0   date         183 non-null    object\n",
            " 1   Group_Count  183 non-null    int64 \n",
            "dtypes: int64(1), object(1)\n",
            "memory usage: 3.0+ KB\n"
          ],
          "name": "stdout"
        }
      ]
    },
    {
      "cell_type": "code",
      "metadata": {
        "id": "G8oMzdMZ7Ol1"
      },
      "source": [
        "data[\"date\"]= pd.to_datetime(data[\"date\"])"
      ],
      "execution_count": null,
      "outputs": []
    },
    {
      "cell_type": "code",
      "metadata": {
        "id": "TG8eCu_QoHhN"
      },
      "source": [
        "# split into train test sets\r\n",
        "from sklearn.model_selection import train_test_split\r\n",
        "train, test = train_test_split(data, test_size = 0.1)"
      ],
      "execution_count": null,
      "outputs": []
    },
    {
      "cell_type": "code",
      "metadata": {
        "colab": {
          "base_uri": "https://localhost:8080/"
        },
        "id": "5O3J-nch4Le3",
        "outputId": "b6b0d38a-ea36-49c2-fe37-5be0cc36ded1"
      },
      "source": [
        "from statsmodels.tsa.holtwinters import ExponentialSmoothing\r\n",
        "double_model = ExponentialSmoothing(train['Group_Count'],trend='add').fit()\r\n",
        "test_predictions = double_model.forecast(28).rename('DES Forecast')"
      ],
      "execution_count": null,
      "outputs": [
        {
          "output_type": "stream",
          "text": [
            "/usr/local/lib/python3.6/dist-packages/statsmodels/tools/_testing.py:19: FutureWarning:\n",
            "\n",
            "pandas.util.testing is deprecated. Use the functions in the public API at pandas.testing instead.\n",
            "\n",
            "/usr/local/lib/python3.6/dist-packages/statsmodels/tsa/base/tsa_model.py:215: ValueWarning:\n",
            "\n",
            "An unsupported index was provided and will be ignored when e.g. forecasting.\n",
            "\n",
            "/usr/local/lib/python3.6/dist-packages/statsmodels/tsa/base/tsa_model.py:576: ValueWarning:\n",
            "\n",
            "No supported index is available. Prediction results will be given with an integer index beginning at `start`.\n",
            "\n"
          ],
          "name": "stderr"
        }
      ]
    },
    {
      "cell_type": "code",
      "metadata": {
        "colab": {
          "base_uri": "https://localhost:8080/"
        },
        "id": "Igb7TRJZ4LMZ",
        "outputId": "211b6adf-f070-4984-f158-558cb73dd212"
      },
      "source": [
        "train['Group_Count'].plot(legend=True,label='TRAIN')\r\n",
        "test['Group_Count'].plot(legend=True,label='TEST',figsize=(12,8))\r\n",
        "test_predictions.plot(legend=True,label='PREDICTION');"
      ],
      "execution_count": null,
      "outputs": [
        {
          "output_type": "display_data",
          "data": {
            "image/png": "[encoded data removed]",
            "text/plain": [
              "<Figure size 864x576 with 1 Axes>"
            ]
          },
          "metadata": {
            "tags": [],
            "needs_background": "light"
          }
        }
      ]
    },
    {
      "cell_type": "code",
      "metadata": {
        "id": "rmVDXEQ04K9B"
      },
      "source": [
        ""
      ],
      "execution_count": null,
      "outputs": []
    },
    {
      "cell_type": "code",
      "metadata": {
        "id": "kKMia5eh86Yy"
      },
      "source": [
        "ann = df.groupby('Date/Time')"
      ],
      "execution_count": null,
      "outputs": []
    },
    {
      "cell_type": "code",
      "metadata": {
        "colab": {
          "base_uri": "https://localhost:8080/"
        },
        "id": "3MCvT9dU864T",
        "outputId": "c8e6a74c-4ffc-477e-94f9-39c9cee97d0e"
      },
      "source": [
        "ann.head(5)"
      ],
      "execution_count": null,
      "outputs": [
        {
          "output_type": "execute_result",
          "data": {
            "text/html": [
              "<div>\n",
              "<style scoped>\n",
              "    .dataframe tbody tr th:only-of-type {\n",
              "        vertical-align: middle;\n",
              "    }\n",
              "\n",
              "    .dataframe tbody tr th {\n",
              "        vertical-align: top;\n",
              "    }\n",
              "\n",
              "    .dataframe thead th {\n",
              "        text-align: right;\n",
              "    }\n",
              "</style>\n",
              "<table border=\"1\" class=\"dataframe\">\n",
              "  <thead>\n",
              "    <tr style=\"text-align: right;\">\n",
              "      <th></th>\n",
              "      <th>Date/Time</th>\n",
              "      <th>Base</th>\n",
              "      <th>date</th>\n",
              "      <th>month</th>\n",
              "      <th>day</th>\n",
              "      <th>hour</th>\n",
              "      <th>day_of_week</th>\n",
              "    </tr>\n",
              "  </thead>\n",
              "  <tbody>\n",
              "    <tr>\n",
              "      <th>0</th>\n",
              "      <td>2014-04-01 00:11:00</td>\n",
              "      <td>B02512</td>\n",
              "      <td>2014-04-01</td>\n",
              "      <td>4</td>\n",
              "      <td>1</td>\n",
              "      <td>0</td>\n",
              "      <td>Tuesday</td>\n",
              "    </tr>\n",
              "    <tr>\n",
              "      <th>1</th>\n",
              "      <td>2014-04-01 00:17:00</td>\n",
              "      <td>B02512</td>\n",
              "      <td>2014-04-01</td>\n",
              "      <td>4</td>\n",
              "      <td>1</td>\n",
              "      <td>0</td>\n",
              "      <td>Tuesday</td>\n",
              "    </tr>\n",
              "    <tr>\n",
              "      <th>2</th>\n",
              "      <td>2014-04-01 00:21:00</td>\n",
              "      <td>B02512</td>\n",
              "      <td>2014-04-01</td>\n",
              "      <td>4</td>\n",
              "      <td>1</td>\n",
              "      <td>0</td>\n",
              "      <td>Tuesday</td>\n",
              "    </tr>\n",
              "    <tr>\n",
              "      <th>3</th>\n",
              "      <td>2014-04-01 00:28:00</td>\n",
              "      <td>B02512</td>\n",
              "      <td>2014-04-01</td>\n",
              "      <td>4</td>\n",
              "      <td>1</td>\n",
              "      <td>0</td>\n",
              "      <td>Tuesday</td>\n",
              "    </tr>\n",
              "    <tr>\n",
              "      <th>4</th>\n",
              "      <td>2014-04-01 00:33:00</td>\n",
              "      <td>B02512</td>\n",
              "      <td>2014-04-01</td>\n",
              "      <td>4</td>\n",
              "      <td>1</td>\n",
              "      <td>0</td>\n",
              "      <td>Tuesday</td>\n",
              "    </tr>\n",
              "    <tr>\n",
              "      <th>...</th>\n",
              "      <td>...</td>\n",
              "      <td>...</td>\n",
              "      <td>...</td>\n",
              "      <td>...</td>\n",
              "      <td>...</td>\n",
              "      <td>...</td>\n",
              "      <td>...</td>\n",
              "    </tr>\n",
              "    <tr>\n",
              "      <th>1020853</th>\n",
              "      <td>2014-09-30 04:51:00</td>\n",
              "      <td>B02764</td>\n",
              "      <td>2014-09-30</td>\n",
              "      <td>9</td>\n",
              "      <td>30</td>\n",
              "      <td>4</td>\n",
              "      <td>Tuesday</td>\n",
              "    </tr>\n",
              "    <tr>\n",
              "      <th>1020854</th>\n",
              "      <td>2014-09-30 04:55:00</td>\n",
              "      <td>B02764</td>\n",
              "      <td>2014-09-30</td>\n",
              "      <td>9</td>\n",
              "      <td>30</td>\n",
              "      <td>4</td>\n",
              "      <td>Tuesday</td>\n",
              "    </tr>\n",
              "    <tr>\n",
              "      <th>1020872</th>\n",
              "      <td>2014-09-30 05:03:00</td>\n",
              "      <td>B02764</td>\n",
              "      <td>2014-09-30</td>\n",
              "      <td>9</td>\n",
              "      <td>30</td>\n",
              "      <td>5</td>\n",
              "      <td>Tuesday</td>\n",
              "    </tr>\n",
              "    <tr>\n",
              "      <th>1020885</th>\n",
              "      <td>2014-09-30 05:08:00</td>\n",
              "      <td>B02764</td>\n",
              "      <td>2014-09-30</td>\n",
              "      <td>9</td>\n",
              "      <td>30</td>\n",
              "      <td>5</td>\n",
              "      <td>Tuesday</td>\n",
              "    </tr>\n",
              "    <tr>\n",
              "      <th>1023110</th>\n",
              "      <td>2014-09-30 12:17:00</td>\n",
              "      <td>B02764</td>\n",
              "      <td>2014-09-30</td>\n",
              "      <td>9</td>\n",
              "      <td>30</td>\n",
              "      <td>12</td>\n",
              "      <td>Tuesday</td>\n",
              "    </tr>\n",
              "  </tbody>\n",
              "</table>\n",
              "<p>1218529 rows × 7 columns</p>\n",
              "</div>"
            ],
            "text/plain": [
              "                  Date/Time    Base        date  month  day  hour day_of_week\n",
              "0       2014-04-01 00:11:00  B02512  2014-04-01      4    1     0     Tuesday\n",
              "1       2014-04-01 00:17:00  B02512  2014-04-01      4    1     0     Tuesday\n",
              "2       2014-04-01 00:21:00  B02512  2014-04-01      4    1     0     Tuesday\n",
              "3       2014-04-01 00:28:00  B02512  2014-04-01      4    1     0     Tuesday\n",
              "4       2014-04-01 00:33:00  B02512  2014-04-01      4    1     0     Tuesday\n",
              "...                     ...     ...         ...    ...  ...   ...         ...\n",
              "1020853 2014-09-30 04:51:00  B02764  2014-09-30      9   30     4     Tuesday\n",
              "1020854 2014-09-30 04:55:00  B02764  2014-09-30      9   30     4     Tuesday\n",
              "1020872 2014-09-30 05:03:00  B02764  2014-09-30      9   30     5     Tuesday\n",
              "1020885 2014-09-30 05:08:00  B02764  2014-09-30      9   30     5     Tuesday\n",
              "1023110 2014-09-30 12:17:00  B02764  2014-09-30      9   30    12     Tuesday\n",
              "\n",
              "[1218529 rows x 7 columns]"
            ]
          },
          "metadata": {
            "tags": []
          },
          "execution_count": 32
        }
      ]
    },
    {
      "cell_type": "code",
      "metadata": {
        "colab": {
          "base_uri": "https://localhost:8080/"
        },
        "id": "lXLqSujfH7IN",
        "outputId": "ffcdcbfc-84dd-4666-e99a-a266465ffc13"
      },
      "source": [
        "type(ann)"
      ],
      "execution_count": 34,
      "outputs": [
        {
          "output_type": "execute_result",
          "data": {
            "text/plain": [
              "pandas.core.groupby.generic.DataFrameGroupBy"
            ]
          },
          "metadata": {
            "tags": []
          },
          "execution_count": 34
        }
      ]
    },
    {
      "cell_type": "code",
      "metadata": {
        "id": "BV3fbgTfS2Ew"
      },
      "source": [
        "data2 = pd.DataFrame(ann.size().reset_index(name = \"Group_Count\"))"
      ],
      "execution_count": 37,
      "outputs": []
    },
    {
      "cell_type": "code",
      "metadata": {
        "id": "iyK-IOxRpqHZ",
        "colab": {
          "base_uri": "https://localhost:8080/",
          "height": 204
        },
        "outputId": "f5d2f5bf-707e-4dcc-effb-b9df8b9c6bee"
      },
      "source": [
        "data2.head()"
      ],
      "execution_count": 40,
      "outputs": [
        {
          "output_type": "execute_result",
          "data": {
            "text/html": [
              "<div>\n",
              "<style scoped>\n",
              "    .dataframe tbody tr th:only-of-type {\n",
              "        vertical-align: middle;\n",
              "    }\n",
              "\n",
              "    .dataframe tbody tr th {\n",
              "        vertical-align: top;\n",
              "    }\n",
              "\n",
              "    .dataframe thead th {\n",
              "        text-align: right;\n",
              "    }\n",
              "</style>\n",
              "<table border=\"1\" class=\"dataframe\">\n",
              "  <thead>\n",
              "    <tr style=\"text-align: right;\">\n",
              "      <th></th>\n",
              "      <th>Date/Time</th>\n",
              "      <th>Group_Count</th>\n",
              "    </tr>\n",
              "  </thead>\n",
              "  <tbody>\n",
              "    <tr>\n",
              "      <th>0</th>\n",
              "      <td>2014-04-01 00:00:00</td>\n",
              "      <td>3</td>\n",
              "    </tr>\n",
              "    <tr>\n",
              "      <th>1</th>\n",
              "      <td>2014-04-01 00:01:00</td>\n",
              "      <td>1</td>\n",
              "    </tr>\n",
              "    <tr>\n",
              "      <th>2</th>\n",
              "      <td>2014-04-01 00:02:00</td>\n",
              "      <td>3</td>\n",
              "    </tr>\n",
              "    <tr>\n",
              "      <th>3</th>\n",
              "      <td>2014-04-01 00:03:00</td>\n",
              "      <td>2</td>\n",
              "    </tr>\n",
              "    <tr>\n",
              "      <th>4</th>\n",
              "      <td>2014-04-01 00:04:00</td>\n",
              "      <td>1</td>\n",
              "    </tr>\n",
              "  </tbody>\n",
              "</table>\n",
              "</div>"
            ],
            "text/plain": [
              "            Date/Time  Group_Count\n",
              "0 2014-04-01 00:00:00            3\n",
              "1 2014-04-01 00:01:00            1\n",
              "2 2014-04-01 00:02:00            3\n",
              "3 2014-04-01 00:03:00            2\n",
              "4 2014-04-01 00:04:00            1"
            ]
          },
          "metadata": {
            "tags": []
          },
          "execution_count": 40
        }
      ]
    },
    {
      "cell_type": "code",
      "metadata": {
        "id": "OUzFJBR25Gy9"
      },
      "source": [
        "# split into train test sets\r\n",
        "from sklearn.model_selection import train_test_split\r\n",
        "x_train, x_test = train_test_split(data2, test_size = 0.1)"
      ],
      "execution_count": 46,
      "outputs": []
    },
    {
      "cell_type": "code",
      "metadata": {
        "id": "ShiAH6nURQGe",
        "colab": {
          "base_uri": "https://localhost:8080/",
          "height": 204
        },
        "outputId": "20d13ecb-fcc4-40ee-9aca-166dd8e2cfd6"
      },
      "source": [
        "x_train.head()"
      ],
      "execution_count": 43,
      "outputs": [
        {
          "output_type": "execute_result",
          "data": {
            "text/html": [
              "<div>\n",
              "<style scoped>\n",
              "    .dataframe tbody tr th:only-of-type {\n",
              "        vertical-align: middle;\n",
              "    }\n",
              "\n",
              "    .dataframe tbody tr th {\n",
              "        vertical-align: top;\n",
              "    }\n",
              "\n",
              "    .dataframe thead th {\n",
              "        text-align: right;\n",
              "    }\n",
              "</style>\n",
              "<table border=\"1\" class=\"dataframe\">\n",
              "  <thead>\n",
              "    <tr style=\"text-align: right;\">\n",
              "      <th></th>\n",
              "      <th>Date/Time</th>\n",
              "      <th>Group_Count</th>\n",
              "    </tr>\n",
              "  </thead>\n",
              "  <tbody>\n",
              "    <tr>\n",
              "      <th>145011</th>\n",
              "      <td>2014-07-12 15:15:00</td>\n",
              "      <td>23</td>\n",
              "    </tr>\n",
              "    <tr>\n",
              "      <th>31112</th>\n",
              "      <td>2014-04-23 07:39:00</td>\n",
              "      <td>20</td>\n",
              "    </tr>\n",
              "    <tr>\n",
              "      <th>80329</th>\n",
              "      <td>2014-05-28 01:35:00</td>\n",
              "      <td>2</td>\n",
              "    </tr>\n",
              "    <tr>\n",
              "      <th>237294</th>\n",
              "      <td>2014-09-15 01:00:00</td>\n",
              "      <td>3</td>\n",
              "    </tr>\n",
              "    <tr>\n",
              "      <th>60599</th>\n",
              "      <td>2014-05-14 03:26:00</td>\n",
              "      <td>1</td>\n",
              "    </tr>\n",
              "  </tbody>\n",
              "</table>\n",
              "</div>"
            ],
            "text/plain": [
              "                 Date/Time  Group_Count\n",
              "145011 2014-07-12 15:15:00           23\n",
              "31112  2014-04-23 07:39:00           20\n",
              "80329  2014-05-28 01:35:00            2\n",
              "237294 2014-09-15 01:00:00            3\n",
              "60599  2014-05-14 03:26:00            1"
            ]
          },
          "metadata": {
            "tags": []
          },
          "execution_count": 43
        }
      ]
    },
    {
      "cell_type": "code",
      "metadata": {
        "id": "MvA_alzHThZT"
      },
      "source": [
        "# Part 2 - Now let make the ANN\r\n",
        "from keras.models import Sequential\r\n",
        "from keras.layers import Dense"
      ],
      "execution_count": 44,
      "outputs": []
    },
    {
      "cell_type": "code",
      "metadata": {
        "id": "rmbwHEMRThGm"
      },
      "source": [
        "# Initializing the ANN\r\n",
        "classifier = Sequential()"
      ],
      "execution_count": 48,
      "outputs": []
    },
    {
      "cell_type": "code",
      "metadata": {
        "id": "oYCg9_joUZ9R"
      },
      "source": [
        "# Adding the input layer and the first hidden layer relu(rectifier)\r\n",
        "classifier.add(Dense(6, kernel_initializer= 'uniform', activation = 'relu', input_dim = 11))"
      ],
      "execution_count": 49,
      "outputs": []
    },
    {
      "cell_type": "code",
      "metadata": {
        "id": "AIPHvOKUUZq1"
      },
      "source": [
        "# Adding the second hidden layer\r\n",
        "classifier.add(Dense(6, kernel_initializer= 'uniform', activation = 'relu' ))"
      ],
      "execution_count": 50,
      "outputs": []
    },
    {
      "cell_type": "code",
      "metadata": {
        "id": "qX6aXIqAUZZe"
      },
      "source": [
        "# Adding the output layer\r\n",
        "classifier.add(Dense(1, kernel_initializer= 'uniform', activation = 'sigmoid'))"
      ],
      "execution_count": 51,
      "outputs": []
    },
    {
      "cell_type": "code",
      "metadata": {
        "id": "kjnt7CnqUzbL"
      },
      "source": [
        "# Compiling the ANN\r\n",
        "classifier.compile(optimizer='adam', loss='binary_crossentropy', metrics = ['accuracy'])"
      ],
      "execution_count": 52,
      "outputs": []
    },
    {
      "cell_type": "code",
      "metadata": {
        "id": "z7Foit2OU5dG"
      },
      "source": [
        "# Fitting the ANN to training set\r\n",
        "classifier.fit(x_train, batch_size=10, epochs=100)"
      ],
      "execution_count": null,
      "outputs": []
    }
  ]
}